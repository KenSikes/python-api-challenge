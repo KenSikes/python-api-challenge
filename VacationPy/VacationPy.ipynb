{
 "cells": [
  {
   "cell_type": "code",
   "execution_count": 2,
   "id": "ordered-ownership",
   "metadata": {},
   "outputs": [],
   "source": [
    " # Dependencies and Setup\n",
    "import matplotlib.pyplot as plt\n",
    "import pandas as pd\n",
    "import numpy as np\n",
    "import requests\n",
    "import gmaps\n",
    "import os\n",
    "\n",
    "# Import API key\n",
    "from config import key_dict\n",
    "\n",
    "#gmaps key \n",
    "g_key = key_dict['g_key']"
   ]
  },
  {
   "cell_type": "markdown",
   "id": "common-parish",
   "metadata": {},
   "source": [
    " Store Part I results into DataFrame\n",
    "\n",
    "Load the csv exported in Part I to a DataFrame"
   ]
  },
  {
   "cell_type": "code",
   "execution_count": 6,
   "id": "raised-laptop",
   "metadata": {},
   "outputs": [
    {
     "data": {
      "text/html": [
       "<div>\n",
       "<style scoped>\n",
       "    .dataframe tbody tr th:only-of-type {\n",
       "        vertical-align: middle;\n",
       "    }\n",
       "\n",
       "    .dataframe tbody tr th {\n",
       "        vertical-align: top;\n",
       "    }\n",
       "\n",
       "    .dataframe thead th {\n",
       "        text-align: right;\n",
       "    }\n",
       "</style>\n",
       "<table border=\"1\" class=\"dataframe\">\n",
       "  <thead>\n",
       "    <tr style=\"text-align: right;\">\n",
       "      <th></th>\n",
       "      <th>City</th>\n",
       "      <th>Lat</th>\n",
       "      <th>Lng</th>\n",
       "      <th>Max Temp</th>\n",
       "      <th>Humidity</th>\n",
       "      <th>Clouds</th>\n",
       "      <th>Wind Speed</th>\n",
       "      <th>Country</th>\n",
       "      <th>Date</th>\n",
       "    </tr>\n",
       "  </thead>\n",
       "  <tbody>\n",
       "    <tr>\n",
       "      <th>0</th>\n",
       "      <td>Rikitea</td>\n",
       "      <td>-23.1203</td>\n",
       "      <td>-134.9692</td>\n",
       "      <td>80.13</td>\n",
       "      <td>71</td>\n",
       "      <td>0</td>\n",
       "      <td>7.54</td>\n",
       "      <td>PF</td>\n",
       "      <td>1616357944</td>\n",
       "    </tr>\n",
       "    <tr>\n",
       "      <th>1</th>\n",
       "      <td>Ushuaia</td>\n",
       "      <td>-54.8000</td>\n",
       "      <td>-68.3000</td>\n",
       "      <td>55.40</td>\n",
       "      <td>58</td>\n",
       "      <td>40</td>\n",
       "      <td>18.41</td>\n",
       "      <td>AR</td>\n",
       "      <td>1616357707</td>\n",
       "    </tr>\n",
       "    <tr>\n",
       "      <th>2</th>\n",
       "      <td>Busselton</td>\n",
       "      <td>-33.6500</td>\n",
       "      <td>115.3333</td>\n",
       "      <td>64.99</td>\n",
       "      <td>95</td>\n",
       "      <td>80</td>\n",
       "      <td>3.00</td>\n",
       "      <td>AU</td>\n",
       "      <td>1616357988</td>\n",
       "    </tr>\n",
       "    <tr>\n",
       "      <th>3</th>\n",
       "      <td>Sakakah</td>\n",
       "      <td>29.9697</td>\n",
       "      <td>40.2064</td>\n",
       "      <td>73.40</td>\n",
       "      <td>17</td>\n",
       "      <td>0</td>\n",
       "      <td>4.61</td>\n",
       "      <td>SA</td>\n",
       "      <td>1616358327</td>\n",
       "    </tr>\n",
       "    <tr>\n",
       "      <th>4</th>\n",
       "      <td>Saldanha</td>\n",
       "      <td>-33.0117</td>\n",
       "      <td>17.9442</td>\n",
       "      <td>62.60</td>\n",
       "      <td>67</td>\n",
       "      <td>0</td>\n",
       "      <td>6.91</td>\n",
       "      <td>ZA</td>\n",
       "      <td>1616358034</td>\n",
       "    </tr>\n",
       "  </tbody>\n",
       "</table>\n",
       "</div>"
      ],
      "text/plain": [
       "        City      Lat       Lng  Max Temp  Humidity  Clouds  Wind Speed  \\\n",
       "0    Rikitea -23.1203 -134.9692     80.13        71       0        7.54   \n",
       "1    Ushuaia -54.8000  -68.3000     55.40        58      40       18.41   \n",
       "2  Busselton -33.6500  115.3333     64.99        95      80        3.00   \n",
       "3    Sakakah  29.9697   40.2064     73.40        17       0        4.61   \n",
       "4   Saldanha -33.0117   17.9442     62.60        67       0        6.91   \n",
       "\n",
       "  Country        Date  \n",
       "0      PF  1616357944  \n",
       "1      AR  1616357707  \n",
       "2      AU  1616357988  \n",
       "3      SA  1616358327  \n",
       "4      ZA  1616358034  "
      ]
     },
     "execution_count": 6,
     "metadata": {},
     "output_type": "execute_result"
    }
   ],
   "source": [
    "weather_csv_file = \"../WeatherPy/output/weather_info_df.csv\"\n",
    "\n",
    "weather_df = pd.read_csv(weather_csv_file)\n",
    "\n",
    "weather_df.head()"
   ]
  },
  {
   "cell_type": "markdown",
   "id": "opposite-chester",
   "metadata": {},
   "source": [
    " Humidity Heatmap\n",
    "\n",
    "Configure gmaps.Use the Lat and Lng as locations and Humidity as the weight.Add Heatmap layer to map."
   ]
  },
  {
   "cell_type": "code",
   "execution_count": 15,
   "id": "differential-section",
   "metadata": {},
   "outputs": [
    {
     "data": {
      "application/vnd.jupyter.widget-view+json": {
       "model_id": "eec2394490ee479cb4dc06b6c58ad4f7",
       "version_major": 2,
       "version_minor": 0
      },
      "text/plain": [
       "Figure(layout=FigureLayout(height='420px'))"
      ]
     },
     "metadata": {},
     "output_type": "display_data"
    }
   ],
   "source": [
    "# Configure gmaps with API key.\n",
    "gmaps.configure(api_key=g_key)\n",
    "\n",
    "weather_df = weather_df.dropna()\n",
    "humidity = weather_df[\"Humidity\"].astype(float)\n",
    "\n",
    "# Store 'Latitude' and 'Longitude' into  locations. \n",
    "locations = weather_df[[\"Lat\", \"Lng\"]].astype(float)\n",
    "\n",
    "# Create a humidity Heatmap layer\n",
    "fig = gmaps.figure()\n",
    "\n",
    "heat_layer = gmaps.heatmap_layer(locations, weights=humidity, \n",
    "                                 dissipating=False, max_intensity=max(weather_df[\"Humidity\"]),\n",
    "                                 point_radius = 2)\n",
    "\n",
    "fig.add_layer(heat_layer)\n",
    "\n",
    "fig"
   ]
  },
  {
   "cell_type": "markdown",
   "id": "united-blink",
   "metadata": {},
   "source": [
    " Create new DataFrame fitting weather criteria\n",
    "\n",
    "Narrow down the cities to fit weather conditions.Drop any rows will null values."
   ]
  },
  {
   "cell_type": "code",
   "execution_count": 16,
   "id": "secret-breeding",
   "metadata": {},
   "outputs": [
    {
     "data": {
      "text/html": [
       "<div>\n",
       "<style scoped>\n",
       "    .dataframe tbody tr th:only-of-type {\n",
       "        vertical-align: middle;\n",
       "    }\n",
       "\n",
       "    .dataframe tbody tr th {\n",
       "        vertical-align: top;\n",
       "    }\n",
       "\n",
       "    .dataframe thead th {\n",
       "        text-align: right;\n",
       "    }\n",
       "</style>\n",
       "<table border=\"1\" class=\"dataframe\">\n",
       "  <thead>\n",
       "    <tr style=\"text-align: right;\">\n",
       "      <th></th>\n",
       "      <th>City</th>\n",
       "      <th>Max Temp</th>\n",
       "      <th>Wind Speed</th>\n",
       "      <th>Cloudiness</th>\n",
       "    </tr>\n",
       "  </thead>\n",
       "  <tbody>\n",
       "  </tbody>\n",
       "</table>\n",
       "</div>"
      ],
      "text/plain": [
       "Empty DataFrame\n",
       "Columns: [City, Max Temp, Wind Speed, Cloudiness]\n",
       "Index: []"
      ]
     },
     "execution_count": 16,
     "metadata": {},
     "output_type": "execute_result"
    }
   ],
   "source": [
    "new_types_df = pd.DataFrame(weather_df, columns = [\"City\", \"Max Temp\", \"Wind Speed\", \"Cloudiness\"])\n",
    "\n",
    "max_temp = (new_types_df[\"Max Temp\"] <= 80) & (new_types_df[\"Max Temp\"] > 70)\n",
    "wind_speed = new_types_df[\"Wind Speed\"] < 10\n",
    "cloudiness = new_types_df[\"Cloudiness\"] == 0\n",
    "\n",
    "# new_types_df[max_temp & wind_speed & cloudiness]\n",
    "new_types_df[max_temp & wind_speed & cloudiness]"
   ]
  },
  {
   "cell_type": "code",
   "execution_count": null,
   "id": "banner-appliance",
   "metadata": {},
   "outputs": [],
   "source": []
  }
 ],
 "metadata": {
  "kernelspec": {
   "display_name": "Python [conda env:PythonData] *",
   "language": "python",
   "name": "conda-env-PythonData-py"
  },
  "language_info": {
   "codemirror_mode": {
    "name": "ipython",
    "version": 3
   },
   "file_extension": ".py",
   "mimetype": "text/x-python",
   "name": "python",
   "nbconvert_exporter": "python",
   "pygments_lexer": "ipython3",
   "version": "3.6.10"
  }
 },
 "nbformat": 4,
 "nbformat_minor": 5
}
